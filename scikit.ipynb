{
 "cells": [
  {
   "cell_type": "code",
   "execution_count": 1,
   "id": "54bcd165-be62-4270-9162-87006964d0e5",
   "metadata": {},
   "outputs": [],
   "source": [
    "from estimator import FourierEstimator\n",
    "from datasets import generate_square_wave_dataset, generate_line_dataset\n",
    "import matplotlib.pyplot as plt\n",
    "from numpy import reshape, shape, power"
   ]
  },
  {
   "cell_type": "code",
   "execution_count": null,
   "id": "180ad6a9-3d9d-417f-abb9-2b2c7b5a5513",
   "metadata": {},
   "outputs": [
    {
     "name": "stderr",
     "output_type": "stream",
     "text": [
      "error: 0.007824448646410131:  44%|█████████████████████████████████████████████████████████████████████████████████████████████████▉                                                                                                                           | 2217/5000 [00:08<00:12, 221.12it/s]"
     ]
    }
   ],
   "source": [
    "X, Y = generate_line_dataset(-10, 10, 256, a=0.5)\n",
    "estimator = FourierEstimator(50, 0.01, 5000)\n",
    "estimator.fit(X, Y)"
   ]
  },
  {
   "cell_type": "code",
   "execution_count": null,
   "id": "53ed01ce-8307-40a6-b8a9-eae2ebf84af0",
   "metadata": {},
   "outputs": [],
   "source": [
    "plt.plot(estimator.errors)"
   ]
  },
  {
   "cell_type": "code",
   "execution_count": null,
   "id": "bb223b7a-197d-45c0-a0a3-3171f5db8c8e",
   "metadata": {},
   "outputs": [],
   "source": [
    "plt.plot(X, Y)\n",
    "X_pred, _ = generate_line_dataset(-20, 20, 500)\n",
    "Y_pred = estimator.predict(X_pred)\n",
    "plt.plot(X_pred, Y_pred)"
   ]
  },
  {
   "cell_type": "code",
   "execution_count": null,
   "id": "ca01bcc0-c74b-46e2-a02b-92e9b85a0f0d",
   "metadata": {},
   "outputs": [],
   "source": [
    "estimator.a0, estimator.an, estimator.bn, estimator.L"
   ]
  },
  {
   "cell_type": "code",
   "execution_count": null,
   "id": "a1837f2e-df2e-430d-a48e-6f1c7d7b6b74",
   "metadata": {},
   "outputs": [],
   "source": []
  }
 ],
 "metadata": {
  "kernelspec": {
   "display_name": "Python 3 (ipykernel)",
   "language": "python",
   "name": "python3"
  },
  "language_info": {
   "codemirror_mode": {
    "name": "ipython",
    "version": 3
   },
   "file_extension": ".py",
   "mimetype": "text/x-python",
   "name": "python",
   "nbconvert_exporter": "python",
   "pygments_lexer": "ipython3",
   "version": "3.13.5"
  }
 },
 "nbformat": 4,
 "nbformat_minor": 5
}
